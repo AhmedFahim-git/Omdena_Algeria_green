{
 "cells": [
  {
   "cell_type": "code",
   "execution_count": 10,
   "metadata": {},
   "outputs": [],
   "source": [
    "import pandas as pd\n",
    "import numpy as np\n",
    "import os\n",
    "import glob\n",
    "from statsmodels.tsa.seasonal import seasonal_decompose\n",
    "from statsmodels.tsa.stattools import adfuller\n",
    "from statsmodels.graphics.tsaplots import plot_acf, plot_pacf, month_plot\n",
    "import seaborn as sns\n",
    "import matplotlib.pyplot as plt\n",
    "# from prophet import Prophet"
   ]
  },
  {
   "cell_type": "code",
   "execution_count": 33,
   "metadata": {},
   "outputs": [],
   "source": [
    "def make_weather_plots(df:pd.DataFrame, feature:str)-> None:\n",
    "    print(f'Plotting values for {feature}')\n",
    "    sns.lineplot(df[feature]).set(title=f'Line graph of data for {feature}')\n",
    "    plt.show()\n",
    "    # sns.lineplot(y=df[feature], x= df.index.round('h')).set(title=f'Line graph of mean over hour hour for {feature}')\n",
    "    # plt.show()\n",
    "    sns.lineplot(y=df[feature], x= df.index.round('d')).set(title=f'Line graph of mean over day for {feature}')\n",
    "    plt.show()\n",
    "    sns.lineplot(y=df[feature], x= df.index.month_name()).set(title=f'Line graph of mean over month for {feature}')\n",
    "    plt.show()\n",
    "    \n",
    "    if feature == 'Rain':\n",
    "        sns.barplot(y=df[feature], x= df.index.hour).set(title=f'Barplot by hour of day for {feature}', xlabel='Hour of day')\n",
    "        plt.show()\n",
    "        sns.barplot(y=df[feature], x= df.index.month_name()).set(title=f'Barplot by month of year for {feature}', xlabel='Month of year')\n",
    "        plt.show()\n",
    "    else:\n",
    "        sns.boxplot(y=df[feature], x= df.index.hour).set(title=f'Boxplot by hour of day for {feature}', xlabel='Hour of day')\n",
    "        plt.show()\n",
    "        sns.boxplot(y=df[feature], x= df.index.month_name()).set(title=f'Boxplot by month of year for {feature}', xlabel='Month of year')\n",
    "        plt.show()\n",
    "    print('Plotting for hour')\n",
    "    decomp_res = seasonal_decompose(df[feature].resample('1h').mean().interpolate(method='nearest').fillna(method='ffill'))\n",
    "    decomp_res.plot();\n",
    "    result = adfuller(decomp_res.resid.dropna())\n",
    "    print(f'The test statistic is {result[0]}')\n",
    "    print(f'The p value is {result[1]}')\n",
    "    plt.show()\n",
    "    plot_acf(decomp_res.resid.dropna());\n",
    "    plt.show()\n",
    "    plot_pacf(decomp_res.resid.dropna());\n",
    "    plt.show()\n",
    "    print('Plotting for day')\n",
    "    decomp_res = seasonal_decompose(df[feature].resample('1d').mean().interpolate(method='nearest').fillna(method='ffill'))\n",
    "    decomp_res.plot();\n",
    "    result = adfuller(decomp_res.resid.dropna())\n",
    "    print(f'The test statistic is {result[0]}')\n",
    "    print(f'The p value is {result[1]}')\n",
    "    plt.show()\n",
    "    plot_acf(decomp_res.resid.dropna());\n",
    "    plt.show()\n",
    "    plot_pacf(decomp_res.resid.dropna());\n",
    "    plt.show()\n",
    "    "
   ]
  },
  {
   "cell_type": "code",
   "execution_count": 40,
   "metadata": {},
   "outputs": [],
   "source": [
    "def plot_missing(df: pd.DataFrame):\n",
    "    temp = df.melt(id_vars='team', ignore_index=False).reset_index()\n",
    "    temp['is_na'] = temp['value'].isna()\n",
    "    fig:sns.FacetGrid = sns.relplot(data = temp, y='is_na', x='datetime', hue='team',  col='variable', col_wrap=3, alpha=0.7, kind='line')\n",
    "    fig.tick_params('x', labelrotation=30)\n",
    "    plt.show()"
   ]
  },
  {
   "cell_type": "code",
   "execution_count": 4,
   "metadata": {},
   "outputs": [],
   "source": [
    "def make_plots(df:pd.DataFrame, feature:str)-> None:\n",
    "    temp = df.reset_index()\n",
    "    print(f'Plotting values for {feature}')\n",
    "    sns.lineplot(y = temp[feature], x=temp['datetime'], hue=temp['team'] ).set(title=f'Line graph of data for {feature}')\n",
    "    plt.xticks(rotation=30)\n",
    "    plt.show()\n",
    "    if pd.Series(df.index).diff().mode()[0] < pd.Timedelta(10, 'minute'):\n",
    "        # sns.lineplot(y=temp[feature], x=temp['datetime'].dt.round('h'), hue=temp['team'] ).set(title=f'Line graph of mean over hour hour for {feature}')\n",
    "        # plt.xticks(rotation=30)\n",
    "        # plt.show()\n",
    "        sns.lineplot(y=temp[feature], x=temp['datetime'].dt.round('d'), hue=temp['team']).set(title=f'Line graph of mean over day for {feature}')\n",
    "        plt.xticks(rotation=30)\n",
    "        plt.show()\n",
    "    sns.lineplot(y = temp[feature], x=temp['datetime'].dt.month_name(), hue=temp['team']).set(title=f'Line graph of mean over month for {feature}')\n",
    "    plt.xticks(rotation=30)\n",
    "    plt.show()\n",
    "    if pd.Series(df.index).diff().mode()[0] < pd.Timedelta(10, 'minute'):\n",
    "        sns.boxplot(y = temp[feature], x=temp['datetime'].dt.hour, hue=temp['team']).set(title=f'Boxplot by hour of day for {feature}', xlabel='Hour of day')\n",
    "        plt.xticks(rotation=30)\n",
    "        plt.show()\n",
    "    sns.boxplot(y = temp[feature], x=temp['datetime'].dt.month_name(), hue=temp['team']).set(title=f'Boxplot by month of year for {feature}', xlabel='Month of year')\n",
    "    plt.xticks(rotation=30)\n",
    "    plt.show()"
   ]
  },
  {
   "cell_type": "markdown",
   "metadata": {},
   "source": [
    "# Weather"
   ]
  },
  {
   "cell_type": "markdown",
   "metadata": {},
   "source": [
    "## Main observations:\n",
    "\n",
    "- Most of the radiation based features: `PARout`, `Iglob`, `RadSum`, `Tout` have a strong 24 hour seasonality and increase from the winter months (December) to Summer (May)\n",
    "- `Pyrgeo` also shows similar trend, but the values get more negative the hotter it gets (more energy is being emitted)\n",
    "- Lots of rain in February, not so much in May (`Rain` is binary, and I'm not sure how to do time series analysis for binary data)\n",
    "- Based on the values of `AbsHumOut`, `Rhout` and `Rain`. The place where data was collected has dry summers\n",
    "- `AbsHumOut` seems to have a strong negative autocorrelation.\n",
    "- `Rhout` seems to have a 24 hour seasonality, might be due to `Tout`\n",
    "- `Windsp` has 24 hour seasonality, seems to be very high in February\n",
    "- All the values seem to be missing at the same time, not really sure why"
   ]
  },
  {
   "cell_type": "markdown",
   "metadata": {},
   "source": [
    "## Code"
   ]
  },
  {
   "cell_type": "code",
   "execution_count": 5,
   "metadata": {},
   "outputs": [],
   "source": [
    "weather  = pd.read_csv(os.path.join('..','data', 'AutonomousGreenhouseChallenge_edition2','Weather', 'Weather.csv'))\n",
    "weather['datetime'] = pd.to_datetime(weather['%time'], unit='D', origin='1899-12-30')\n",
    "weather = weather.set_index('datetime', drop=True)\n",
    "weather = weather.drop(columns=['%time'])"
   ]
  },
  {
   "cell_type": "code",
   "execution_count": 6,
   "metadata": {},
   "outputs": [
    {
     "data": {
      "text/plain": [
       "<AxesSubplot: xlabel='datetime', ylabel='value'>"
      ]
     },
     "execution_count": 6,
     "metadata": {},
     "output_type": "execute_result"
    },
    {
     "data": {
      "image/png": "[encoded data removed]",
      "text/plain": [
       "<Figure size 640x480 with 1 Axes>"
      ]
     },
     "metadata": {},
     "output_type": "display_data"
    }
   ],
   "source": [
    "sns.lineplot(y=weather.melt(ignore_index=False)['value'].isna(), x=weather.melt(ignore_index=False).index,  hue=weather.melt(ignore_index=False)['variable'], )"
   ]
  },
  {
   "cell_type": "code",
   "execution_count": null,
   "metadata": {},
   "outputs": [],
   "source": [
    "for feat in weather.columns:\n",
    "    make_weather_plots(weather, feat)\n"
   ]
  },
  {
   "cell_type": "markdown",
   "metadata": {},
   "source": [
    "# Crop Parameters"
   ]
  },
  {
   "cell_type": "markdown",
   "metadata": {},
   "source": [
    "## Main Observations\n",
    "\n",
    "* The data is collected weekly, hence there aren't that many data points. And many of the quantities are supposed to increase over time anyway, and so it is difficult to distinguish the effects of trend and seasonality\n",
    "* In my opinion, the most important quantity here, `Cum_trusses` increases steadily over time for all the teams, so I think they are all doing quite well.\n",
    "* Plant density (number of plants per square meter) remains same throughout, so no new plants are planted\n",
    "* Stem density increases though, not sure how that's calculated"
   ]
  },
  {
   "cell_type": "markdown",
   "metadata": {},
   "source": [
    "## Code"
   ]
  },
  {
   "cell_type": "code",
   "execution_count": 35,
   "metadata": {},
   "outputs": [
    {
     "name": "stdout",
     "output_type": "stream",
     "text": [
      "(138, 6)\n"
     ]
    },
    {
     "data": {
      "text/html": [
       "<div>\n",
       "<style scoped>\n",
       "    .dataframe tbody tr th:only-of-type {\n",
       "        vertical-align: middle;\n",
       "    }\n",
       "\n",
       "    .dataframe tbody tr th {\n",
       "        vertical-align: top;\n",
       "    }\n",
       "\n",
       "    .dataframe thead th {\n",
       "        text-align: right;\n",
       "    }\n",
       "</style>\n",
       "<table border=\"1\" class=\"dataframe\">\n",
       "  <thead>\n",
       "    <tr style=\"text-align: right;\">\n",
       "      <th></th>\n",
       "      <th>Stem_elong</th>\n",
       "      <th>Stem_thick</th>\n",
       "      <th>Cum_trusses</th>\n",
       "      <th>stem_dens</th>\n",
       "      <th>plant_dens</th>\n",
       "      <th>team</th>\n",
       "    </tr>\n",
       "    <tr>\n",
       "      <th>datetime</th>\n",
       "      <th></th>\n",
       "      <th></th>\n",
       "      <th></th>\n",
       "      <th></th>\n",
       "      <th></th>\n",
       "      <th></th>\n",
       "    </tr>\n",
       "  </thead>\n",
       "  <tbody>\n",
       "    <tr>\n",
       "      <th>2019-12-24</th>\n",
       "      <td>18.7</td>\n",
       "      <td>8.3</td>\n",
       "      <td>NaN</td>\n",
       "      <td>3.6</td>\n",
       "      <td>1.8</td>\n",
       "      <td>AICU</td>\n",
       "    </tr>\n",
       "    <tr>\n",
       "      <th>2019-12-31</th>\n",
       "      <td>29.9</td>\n",
       "      <td>11.7</td>\n",
       "      <td>1.3</td>\n",
       "      <td>3.6</td>\n",
       "      <td>1.8</td>\n",
       "      <td>AICU</td>\n",
       "    </tr>\n",
       "    <tr>\n",
       "      <th>2020-01-08</th>\n",
       "      <td>35.8</td>\n",
       "      <td>13.6</td>\n",
       "      <td>3.2</td>\n",
       "      <td>3.6</td>\n",
       "      <td>1.8</td>\n",
       "      <td>AICU</td>\n",
       "    </tr>\n",
       "    <tr>\n",
       "      <th>2020-01-15</th>\n",
       "      <td>35.1</td>\n",
       "      <td>13.5</td>\n",
       "      <td>4.7</td>\n",
       "      <td>3.6</td>\n",
       "      <td>1.8</td>\n",
       "      <td>AICU</td>\n",
       "    </tr>\n",
       "    <tr>\n",
       "      <th>2020-01-22</th>\n",
       "      <td>34.7</td>\n",
       "      <td>12.6</td>\n",
       "      <td>5.8</td>\n",
       "      <td>3.6</td>\n",
       "      <td>1.8</td>\n",
       "      <td>AICU</td>\n",
       "    </tr>\n",
       "    <tr>\n",
       "      <th>...</th>\n",
       "      <td>...</td>\n",
       "      <td>...</td>\n",
       "      <td>...</td>\n",
       "      <td>...</td>\n",
       "      <td>...</td>\n",
       "      <td>...</td>\n",
       "    </tr>\n",
       "    <tr>\n",
       "      <th>2020-04-29</th>\n",
       "      <td>NaN</td>\n",
       "      <td>NaN</td>\n",
       "      <td>23.8</td>\n",
       "      <td>5.4</td>\n",
       "      <td>1.8</td>\n",
       "      <td>TheAutomators</td>\n",
       "    </tr>\n",
       "    <tr>\n",
       "      <th>2020-05-06</th>\n",
       "      <td>NaN</td>\n",
       "      <td>NaN</td>\n",
       "      <td>NaN</td>\n",
       "      <td>5.4</td>\n",
       "      <td>1.8</td>\n",
       "      <td>TheAutomators</td>\n",
       "    </tr>\n",
       "    <tr>\n",
       "      <th>2020-05-13</th>\n",
       "      <td>NaN</td>\n",
       "      <td>NaN</td>\n",
       "      <td>NaN</td>\n",
       "      <td>5.4</td>\n",
       "      <td>1.8</td>\n",
       "      <td>TheAutomators</td>\n",
       "    </tr>\n",
       "    <tr>\n",
       "      <th>2020-05-20</th>\n",
       "      <td>NaN</td>\n",
       "      <td>NaN</td>\n",
       "      <td>NaN</td>\n",
       "      <td>5.4</td>\n",
       "      <td>1.8</td>\n",
       "      <td>TheAutomators</td>\n",
       "    </tr>\n",
       "    <tr>\n",
       "      <th>2020-05-27</th>\n",
       "      <td>NaN</td>\n",
       "      <td>NaN</td>\n",
       "      <td>NaN</td>\n",
       "      <td>5.4</td>\n",
       "      <td>1.8</td>\n",
       "      <td>TheAutomators</td>\n",
       "    </tr>\n",
       "  </tbody>\n",
       "</table>\n",
       "<p>138 rows × 6 columns</p>\n",
       "</div>"
      ],
      "text/plain": [
       "            Stem_elong  Stem_thick  Cum_trusses  stem_dens   plant_dens  \\\n",
       "datetime                                                                  \n",
       "2019-12-24        18.7         8.3          NaN         3.6         1.8   \n",
       "2019-12-31        29.9        11.7          1.3         3.6         1.8   \n",
       "2020-01-08        35.8        13.6          3.2         3.6         1.8   \n",
       "2020-01-15        35.1        13.5          4.7         3.6         1.8   \n",
       "2020-01-22        34.7        12.6          5.8         3.6         1.8   \n",
       "...                ...         ...          ...         ...         ...   \n",
       "2020-04-29         NaN         NaN         23.8         5.4         1.8   \n",
       "2020-05-06         NaN         NaN          NaN         5.4         1.8   \n",
       "2020-05-13         NaN         NaN          NaN         5.4         1.8   \n",
       "2020-05-20         NaN         NaN          NaN         5.4         1.8   \n",
       "2020-05-27         NaN         NaN          NaN         5.4         1.8   \n",
       "\n",
       "                     team  \n",
       "datetime                   \n",
       "2019-12-24           AICU  \n",
       "2019-12-31           AICU  \n",
       "2020-01-08           AICU  \n",
       "2020-01-15           AICU  \n",
       "2020-01-22           AICU  \n",
       "...                   ...  \n",
       "2020-04-29  TheAutomators  \n",
       "2020-05-06  TheAutomators  \n",
       "2020-05-13  TheAutomators  \n",
       "2020-05-20  TheAutomators  \n",
       "2020-05-27  TheAutomators  \n",
       "\n",
       "[138 rows x 6 columns]"
      ]
     },
     "metadata": {},
     "output_type": "display_data"
    }
   ],
   "source": [
    "crop_param = pd.DataFrame()\n",
    "for file in glob.glob('..\\data\\AutonomousGreenhouseChallenge_edition2\\*\\CropParameters.csv'):\n",
    "    sub_crop_param = pd.read_csv(file) \n",
    "    sub_crop_param['datetime'] = pd.to_datetime(sub_crop_param['%Time'], unit='D', origin='1899-12-30')\n",
    "    sub_crop_param = sub_crop_param.set_index('datetime', drop=True)\n",
    "    sub_crop_param = sub_crop_param.drop(columns=['%Time'])\n",
    "    for col in sub_crop_param.columns:\n",
    "        sub_crop_param[col] = pd.to_numeric(sub_crop_param[col], errors='coerce')\n",
    "    sub_crop_param['team'] = file.split('\\\\')[-2]\n",
    "    crop_param = pd.concat([crop_param, sub_crop_param])\n",
    "\n",
    "print(crop_param.shape)\n",
    "display(crop_param)"
   ]
  },
  {
   "cell_type": "code",
   "execution_count": 41,
   "metadata": {},
   "outputs": [
    {
     "data": {
      "image/png": "[encoded data removed]",
      "text/plain": [
       "<Figure size 1657x1000 with 5 Axes>"
      ]
     },
     "metadata": {},
     "output_type": "display_data"
    }
   ],
   "source": [
    "plot_missing(crop_param)"
   ]
  },
  {
   "cell_type": "code",
   "execution_count": null,
   "metadata": {},
   "outputs": [],
   "source": [
    "for col in crop_param.columns:\n",
    "    if col !='team':\n",
    "        make_plots(crop_param, col)"
   ]
  },
  {
   "cell_type": "code",
   "execution_count": null,
   "metadata": {},
   "outputs": [],
   "source": [
    "# crop_prarm = pd.read_csv('..\\data\\AutonomousGreenhouseChallenge_edition2\\Reference\\CropParameters.csv') \n",
    "# crop_prarm['datetime'] = pd.to_datetime(crop_prarm['%Time'], unit='D', origin='1899-12-30')\n",
    "# crop_prarm = crop_prarm.set_index('datetime', drop=True)\n",
    "# crop_prarm = crop_prarm.drop(columns=['%Time'])\n",
    "\n",
    "# for col in crop_prarm.columns:\n",
    "#     crop_prarm[col] = pd.to_numeric(crop_prarm[col], errors='coerce')\n",
    "#     sns.lineplot(crop_prarm[col]).set(title=f'line graph for {col}')\n",
    "#     plt.xticks(rotation=45)\n",
    "#     plt.show()"
   ]
  },
  {
   "cell_type": "markdown",
   "metadata": {},
   "source": [
    "# Greenhouse Climate"
   ]
  },
  {
   "cell_type": "code",
   "execution_count": null,
   "metadata": {},
   "outputs": [],
   "source": [
    "green_climate = pd.DataFrame()\n",
    "for file in glob.glob('..\\data\\AutonomousGreenhouseChallenge_edition2\\*\\GreenhouseClimate.csv'):\n",
    "    sub_green_climate = pd.read_csv(file) \n",
    "    sub_green_climate['datetime'] = pd.to_datetime(sub_green_climate['%time'], unit='D', origin='1899-12-30')\n",
    "    sub_green_climate = sub_green_climate.set_index('datetime', drop=True)\n",
    "    sub_green_climate = sub_green_climate.drop(columns=['%time'])\n",
    "    for col in sub_green_climate.columns:\n",
    "        sub_green_climate[col] = pd.to_numeric(sub_green_climate[col], errors='coerce')\n",
    "    sub_green_climate['team'] = file.split('\\\\')[-2]\n",
    "    green_climate = pd.concat([green_climate, sub_green_climate])\n",
    "\n",
    "print(green_climate.shape)\n",
    "display(green_climate)"
   ]
  },
  {
   "cell_type": "code",
   "execution_count": null,
   "metadata": {},
   "outputs": [],
   "source": [
    "plot_missing(green_climate)"
   ]
  },
  {
   "cell_type": "code",
   "execution_count": null,
   "metadata": {},
   "outputs": [],
   "source": [
    "for col in green_climate.columns:\n",
    "    if col != 'team':\n",
    "        make_plots(green_climate, col)"
   ]
  },
  {
   "cell_type": "code",
   "execution_count": null,
   "metadata": {},
   "outputs": [],
   "source": [
    "# green_climate = pd.read_csv('..\\data\\AutonomousGreenhouseChallenge_edition2\\Reference\\GreenhouseClimate.csv', dtype=str)\n",
    "# for col in green_climate.columns:\n",
    "#     green_climate[col] = pd.to_numeric(green_climate[col], errors='coerce')\n",
    "    \n",
    "# green_climate['datetime'] = pd.to_datetime(green_climate['%time'], unit='D', origin='1899-12-30')\n",
    "# green_climate = green_climate.set_index('datetime', drop=True)\n",
    "# green_climate = green_climate.drop(columns=['%time'])"
   ]
  },
  {
   "cell_type": "code",
   "execution_count": null,
   "metadata": {},
   "outputs": [],
   "source": [
    "# for col in green_climate.columns:\n",
    "#     sns.lineplot(green_climate[col]).set(title=f'Line graph as is for {col}')\n",
    "#     plt.show()\n",
    "#     sns.lineplot(y=green_climate[col], x= green_climate.index.round('h')).set(title=f'Line graph by hour for {col}')\n",
    "#     plt.show()\n",
    "#     sns.lineplot(y=green_climate[col], x= green_climate.index.round('d')).set(title=f'Line graph by day for {col}')\n",
    "#     plt.show()\n",
    "#     sns.boxplot(y=green_climate[col], x= green_climate.index.hour).set(title=f'Boxplot by hour of day for {col}')\n",
    "#     plt.show()\n",
    "#     sns.boxplot(y=green_climate[col], x= green_climate.index.month_name()).set(title=f'Boxplot by month of year for {col}')\n",
    "#     plt.show()\n",
    "#     # sns.lineplot(green_climate[col]).set(title=f'Plot for {col}')\n",
    "#     # plt.show()"
   ]
  },
  {
   "cell_type": "markdown",
   "metadata": {},
   "source": [
    "# Grodan Sens"
   ]
  },
  {
   "cell_type": "code",
   "execution_count": null,
   "metadata": {},
   "outputs": [],
   "source": [
    "grodan_sens = pd.DataFrame()\n",
    "for file in glob.glob('..\\data\\AutonomousGreenhouseChallenge_edition2\\*\\GrodanSens.csv'):\n",
    "    sub_grodan_sens = pd.read_csv(file) \n",
    "    sub_grodan_sens['datetime'] = pd.to_datetime(sub_grodan_sens['%time'], unit='D', origin='1899-12-30')\n",
    "    sub_grodan_sens = sub_grodan_sens.set_index('datetime', drop=True)\n",
    "    sub_grodan_sens = sub_grodan_sens.drop(columns=['%time'])\n",
    "    for col in sub_grodan_sens.columns:\n",
    "        sub_grodan_sens[col] = pd.to_numeric(sub_grodan_sens[col], errors='coerce')\n",
    "    sub_grodan_sens['team'] = file.split('\\\\')[-2]\n",
    "    grodan_sens = pd.concat([grodan_sens, sub_grodan_sens])\n",
    "\n",
    "print(grodan_sens.shape)\n",
    "display(grodan_sens.head())"
   ]
  },
  {
   "cell_type": "code",
   "execution_count": null,
   "metadata": {},
   "outputs": [],
   "source": [
    "plot_missing(grodan_sens)"
   ]
  },
  {
   "cell_type": "code",
   "execution_count": null,
   "metadata": {},
   "outputs": [],
   "source": [
    "for col in grodan_sens.columns:\n",
    "    if col != 'team':\n",
    "        make_plots(grodan_sens, col)"
   ]
  },
  {
   "cell_type": "code",
   "execution_count": null,
   "metadata": {},
   "outputs": [],
   "source": [
    "# grodan_sens = pd.read_csv('..\\data\\AutonomousGreenhouseChallenge_edition2\\Reference\\GrodanSens.csv') \n",
    "# for col in grodan_sens.columns:\n",
    "#     grodan_sens[col] = pd.to_numeric(grodan_sens[col], errors='coerce')\n",
    "# grodan_sens['datetime'] = pd.to_datetime(grodan_sens['%time'], unit='D', origin='1899-12-30')\n",
    "# grodan_sens = grodan_sens.set_index('datetime', drop=True)\n",
    "# grodan_sens = grodan_sens.drop(columns=['%time'])"
   ]
  },
  {
   "cell_type": "code",
   "execution_count": null,
   "metadata": {},
   "outputs": [],
   "source": [
    "# for col in grodan_sens.columns:\n",
    "#     sns.lineplot(grodan_sens[col]).set(title=f'Line graph as is for {col}')\n",
    "#     plt.show()\n",
    "#     sns.lineplot(y=grodan_sens[col], x= grodan_sens.index.round('h')).set(title=f'Line graph by hour for {col}')\n",
    "#     plt.show()\n",
    "#     sns.lineplot(y=grodan_sens[col], x= grodan_sens.index.round('d')).set(title=f'Line graph by day for {col}')\n",
    "#     plt.show()\n",
    "#     sns.boxplot(y=grodan_sens[col], x= grodan_sens.index.hour).set(title=f'Boxplot by hour of day for {col}')\n",
    "#     plt.show()\n",
    "#     sns.boxplot(y=grodan_sens[col], x= grodan_sens.index.month_name()).set(title=f'Boxplot by month of year for {col}')\n",
    "#     plt.show()"
   ]
  },
  {
   "cell_type": "markdown",
   "metadata": {},
   "source": [
    "# Lab analysis"
   ]
  },
  {
   "cell_type": "code",
   "execution_count": null,
   "metadata": {},
   "outputs": [],
   "source": [
    "lab_analysis = pd.DataFrame()\n",
    "for file in glob.glob('..\\data\\AutonomousGreenhouseChallenge_edition2\\*\\LabAnalysis.csv'):\n",
    "    sub_lab_analysis = pd.read_csv(file) \n",
    "    sub_lab_analysis['datetime'] = pd.to_datetime(sub_lab_analysis['%Time'], unit='D', origin='1899-12-30')\n",
    "    sub_lab_analysis = sub_lab_analysis.set_index('datetime', drop=True)\n",
    "    sub_lab_analysis = sub_lab_analysis.drop(columns=['%Time'])\n",
    "    for col in sub_lab_analysis.columns:\n",
    "        sub_lab_analysis[col] = pd.to_numeric(sub_lab_analysis[col], errors='coerce')\n",
    "    sub_lab_analysis['team'] = file.split('\\\\')[-2]\n",
    "    lab_analysis = pd.concat([lab_analysis, sub_lab_analysis])\n",
    "\n",
    "print(lab_analysis.shape)\n",
    "display(lab_analysis.head())"
   ]
  },
  {
   "cell_type": "code",
   "execution_count": null,
   "metadata": {},
   "outputs": [],
   "source": [
    "# plot_missing(lab_analysis)\n",
    "lab_analysis.isna().sum()[lab_analysis.isna().sum()>0]"
   ]
  },
  {
   "cell_type": "code",
   "execution_count": null,
   "metadata": {},
   "outputs": [],
   "source": [
    "for col in lab_analysis.columns:\n",
    "    if col != 'team':\n",
    "        make_plots(lab_analysis, col)"
   ]
  },
  {
   "cell_type": "code",
   "execution_count": null,
   "metadata": {},
   "outputs": [],
   "source": [
    "# lab_analysis = pd.read_csv('..\\data\\AutonomousGreenhouseChallenge_edition2\\Reference\\LabAnalysis.csv') \n",
    "# lab_analysis['datetime'] = pd.to_datetime(lab_analysis['%Time'], unit='D', origin='1899-12-30')\n",
    "# lab_analysis = lab_analysis.set_index('datetime', drop=True)\n",
    "# lab_analysis = lab_analysis.drop(columns=['%Time'])\n",
    "# lab_analysis = lab_analysis.melt(ignore_index=False)\n",
    "# lab_analysis['sample_source'], lab_analysis['quantity_measured'] =lab_analysis['variable'].str.split('_').apply(lambda x:x[0]), lab_analysis['variable'].str.split('_').apply(lambda x:x[1])\n",
    "# lab_analysis = lab_analysis.drop(columns=['variable'])\n",
    "# lab_analysis = lab_analysis.reset_index()\n",
    "# lab_analysis = lab_analysis.pivot(columns=[ 'quantity_measured'], values=['value',], index=['datetime','sample_source']).droplevel(0, axis=1).reset_index(level=1 )\n",
    "# lab_analysis"
   ]
  },
  {
   "cell_type": "code",
   "execution_count": null,
   "metadata": {},
   "outputs": [],
   "source": [
    "# for col in lab_analysis.columns:\n",
    "#     if col != 'sample_source':\n",
    "#         sns.lineplot(y=lab_analysis[col], x=lab_analysis.index, hue=lab_analysis['sample_source']).set(title=f'Line graph as is for {col}')\n",
    "#         plt.xticks(rotation=45)\n",
    "#         plt.show()\n",
    "#         sns.boxplot(y=lab_analysis[col], x= lab_analysis.index.month_name(), hue=lab_analysis['sample_source']).set(title=f'Boxplot by month of year for {col}')\n",
    "#         plt.xticks(rotation=45)\n",
    "#         plt.show()"
   ]
  },
  {
   "cell_type": "markdown",
   "metadata": {},
   "source": [
    "# Production"
   ]
  },
  {
   "cell_type": "code",
   "execution_count": null,
   "metadata": {},
   "outputs": [],
   "source": [
    "prod = pd.DataFrame()\n",
    "for file in glob.glob('..\\data\\AutonomousGreenhouseChallenge_edition2\\*\\GrodanSens.csv'):\n",
    "    sub_prod = pd.read_csv(file) \n",
    "    sub_prod['datetime'] = pd.to_datetime(sub_prod['%time'], unit='D', origin='1899-12-30')\n",
    "    sub_prod = sub_prod.set_index('datetime', drop=True)\n",
    "    sub_prod = sub_prod.drop(columns=['%time'])\n",
    "    for col in sub_prod.columns:\n",
    "        sub_prod[col] = pd.to_numeric(sub_prod[col], errors='coerce')\n",
    "    sub_prod['team'] = file.split('\\\\')[-2]\n",
    "    prod = pd.concat([prod, sub_prod])\n",
    "\n",
    "print(prod.shape)\n",
    "display(prod.head())"
   ]
  },
  {
   "cell_type": "code",
   "execution_count": null,
   "metadata": {},
   "outputs": [],
   "source": [
    "plot_missing(prod)"
   ]
  },
  {
   "cell_type": "code",
   "execution_count": null,
   "metadata": {},
   "outputs": [],
   "source": [
    "for col in prod.columns:\n",
    "    if col != 'team':\n",
    "        make_plots(prod, col)"
   ]
  },
  {
   "cell_type": "code",
   "execution_count": null,
   "metadata": {},
   "outputs": [],
   "source": [
    "# prod = pd.read_csv('..\\data\\AutonomousGreenhouseChallenge_edition2\\Reference\\Production.csv') \n",
    "\n",
    "# prod['datetime'] = pd.to_datetime(prod['%time'], unit='D', origin='1899-12-30')\n",
    "# prod = prod.set_index('datetime', drop=True)\n",
    "# prod = prod.drop(columns=['%time'])\n",
    "\n",
    "# prod"
   ]
  },
  {
   "cell_type": "code",
   "execution_count": null,
   "metadata": {},
   "outputs": [],
   "source": [
    "# for col in prod.columns:\n",
    "#     sns.lineplot(y=prod[col], x=prod.index).set(title=f'Line graph as is for {col}')\n",
    "#     plt.xticks(rotation=45)\n",
    "#     plt.show()\n",
    "#     sns.boxplot(y=prod[col], x= prod.index.month_name()).set(title=f'Boxplot by month of year for {col}')\n",
    "#     plt.xticks(rotation=45)\n",
    "#     plt.show()"
   ]
  },
  {
   "cell_type": "markdown",
   "metadata": {},
   "source": [
    "# Resources"
   ]
  },
  {
   "cell_type": "code",
   "execution_count": null,
   "metadata": {},
   "outputs": [],
   "source": [
    "resources = pd.DataFrame()\n",
    "for file in glob.glob('..\\data\\AutonomousGreenhouseChallenge_edition2\\*\\GrodanSens.csv'):\n",
    "    sub_resources = pd.read_csv(file) \n",
    "    sub_resources['datetime'] = pd.to_datetime(sub_resources['%time'], unit='D', origin='1899-12-30')\n",
    "    sub_resources = sub_resources.set_index('datetime', drop=True)\n",
    "    sub_resources = sub_resources.drop(columns=['%time'])\n",
    "    for col in sub_resources.columns:\n",
    "        sub_resources[col] = pd.to_numeric(sub_resources[col], errors='coerce')\n",
    "    sub_resources['team'] = file.split('\\\\')[-2]\n",
    "    resources = pd.concat([resources, sub_resources])\n",
    "\n",
    "print(resources.shape)\n",
    "display(resources.head())"
   ]
  },
  {
   "cell_type": "code",
   "execution_count": null,
   "metadata": {},
   "outputs": [],
   "source": [
    "plot_missing(resources)"
   ]
  },
  {
   "cell_type": "code",
   "execution_count": null,
   "metadata": {},
   "outputs": [],
   "source": [
    "for col in resources.columns:\n",
    "    if col != 'team':\n",
    "        make_plots(resources, col)"
   ]
  },
  {
   "cell_type": "code",
   "execution_count": null,
   "metadata": {},
   "outputs": [],
   "source": [
    "# resources = pd.read_csv('..\\data\\AutonomousGreenhouseChallenge_edition2\\Reference\\Resources.csv') \n",
    "# resources['datetime'] = pd.to_datetime(resources['%Time '], unit='D', origin='1899-12-30')\n",
    "# resources = resources.set_index('datetime', drop=True)\n",
    "# resources = resources.drop(columns=['%Time '])\n",
    "# resources"
   ]
  },
  {
   "cell_type": "code",
   "execution_count": null,
   "metadata": {},
   "outputs": [],
   "source": [
    "# for col in resources.columns:\n",
    "#     sns.lineplot(y=resources[col], x=resources.index).set(title=f'Line graph as is for {col}')\n",
    "#     plt.xticks(rotation=45)\n",
    "#     plt.show()\n",
    "#     sns.boxplot(y=resources[col], x= resources.index.month_name()).set(title=f'Boxplot by month of year for {col}')\n",
    "#     plt.xticks(rotation=45)\n",
    "#     plt.show()"
   ]
  },
  {
   "cell_type": "markdown",
   "metadata": {},
   "source": [
    "# Tom Quality"
   ]
  },
  {
   "cell_type": "code",
   "execution_count": null,
   "metadata": {},
   "outputs": [],
   "source": [
    "tom_quality = pd.DataFrame()\n",
    "for file in glob.glob('..\\data\\AutonomousGreenhouseChallenge_edition2\\*\\TomQuality.csv'):\n",
    "    sub_tom_quality = pd.read_csv(file, sep=',', engine='python', skiprows=1, header=None, names=['%time', 'Flavor', 'TSS', 'Acid', '%Juice', 'Bite','Weight','DMC_Fruit']) \n",
    "    # sub_tom_quality.columns = [col.strip(', ') for col in sub_tom_quality.columns]\n",
    "    sub_tom_quality['datetime'] = pd.to_datetime(sub_tom_quality['%time'], unit='D', origin='1899-12-30')\n",
    "    sub_tom_quality = sub_tom_quality.set_index('datetime', drop=True)\n",
    "    sub_tom_quality = sub_tom_quality.drop(columns=['%time'])\n",
    "    for col in sub_tom_quality.columns:\n",
    "        if sub_tom_quality[col].dtype == 'O':\n",
    "            sub_tom_quality[col] = pd.to_numeric(sub_tom_quality[col].str.replace(',', ''), errors='coerce')\n",
    "    sub_tom_quality['team'] = file.split('\\\\')[-2]\n",
    "    tom_quality = pd.concat([tom_quality, sub_tom_quality])\n",
    "\n",
    "print(tom_quality.shape)\n",
    "display(tom_quality.head())"
   ]
  },
  {
   "cell_type": "code",
   "execution_count": null,
   "metadata": {},
   "outputs": [],
   "source": [
    "plot_missing(tom_quality)"
   ]
  },
  {
   "cell_type": "code",
   "execution_count": null,
   "metadata": {},
   "outputs": [],
   "source": [
    "for col in tom_quality.columns:\n",
    "    if col != 'team':\n",
    "        make_plots(tom_quality, col)"
   ]
  },
  {
   "cell_type": "code",
   "execution_count": null,
   "metadata": {},
   "outputs": [],
   "source": [
    "# tom_quality = pd.read_csv('..\\data\\AutonomousGreenhouseChallenge_edition2\\Reference\\TomQuality.csv', sep='\\t', engine='python')\n",
    "# tom_quality.columns = [col.strip(', ') for col in tom_quality.columns]\n",
    "# for col in tom_quality.columns:\n",
    "#     if tom_quality[col].dtype == 'O':\n",
    "#         tom_quality[col] = pd.to_numeric(tom_quality[col].str.replace(',', ''), errors='coerce')\n",
    "# tom_quality['datetime'] = pd.to_datetime(tom_quality['%time'], unit='D', origin='1899-12-30')\n",
    "# tom_quality = tom_quality.set_index('datetime', drop=True)\n",
    "# tom_quality = tom_quality.drop(columns=['%time'])\n",
    "# tom_quality"
   ]
  },
  {
   "cell_type": "code",
   "execution_count": null,
   "metadata": {},
   "outputs": [],
   "source": [
    "# for col in tom_quality.columns:\n",
    "#     sns.lineplot(y=tom_quality[col], x=tom_quality.index).set(title=f'Line graph as is for {col}')\n",
    "#     plt.xticks(rotation=45)\n",
    "#     plt.show()\n",
    "#     sns.boxplot(y=tom_quality[col], x= tom_quality.index.month_name()).set(title=f'Boxplot by month of year for {col}')\n",
    "#     plt.xticks(rotation=45)\n",
    "#     plt.show()"
   ]
  },
  {
   "cell_type": "code",
   "execution_count": null,
   "metadata": {},
   "outputs": [],
   "source": []
  }
 ],
 "metadata": {
  "kernelspec": {
   "display_name": "Python 3.10.8 ('venv': venv)",
   "language": "python",
   "name": "python3"
  },
  "language_info": {
   "codemirror_mode": {
    "name": "ipython",
    "version": 3
   },
   "file_extension": ".py",
   "mimetype": "text/x-python",
   "name": "python",
   "nbconvert_exporter": "python",
   "pygments_lexer": "ipython3",
   "version": "3.10.8"
  },
  "vscode": {
   "interpreter": {
    "hash": "f5302b9bc5fab527bee62ccda6e3721550c7812e6ccb7f4e9c5bf3d23500cd3e"
   }
  }
 },
 "nbformat": 4,
 "nbformat_minor": 2
}
